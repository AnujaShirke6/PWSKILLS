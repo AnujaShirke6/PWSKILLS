{
 "cells": [
  {
   "cell_type": "markdown",
   "id": "c35c875b-5f27-438e-a26e-b01e1e17d352",
   "metadata": {},
   "source": [
    "PW_ASSIGNMENT 2"
   ]
  },
  {
   "cell_type": "code",
   "execution_count": 6,
   "id": "13698d4a-6eb4-4ce1-8290-d4502cb14ffc",
   "metadata": {},
   "outputs": [
    {
     "name": "stdin",
     "output_type": "stream",
     "text": [
      "Please enter acquired percentage:  85\n"
     ]
    },
    {
     "name": "stdout",
     "output_type": "stream",
     "text": [
      "Well done, You've got 'B' !!\n"
     ]
    }
   ],
   "source": [
    "#1 Write a program to accept percentage from the user & display the grade accordingly.\n",
    "\n",
    "\n",
    "\n",
    "Marks = int(input(\"Please enter acquired percentage: \"))\n",
    "if(Marks>90 and Marks<=100):\n",
    "    print(\"Congratulations You've got 'A' !!\")\n",
    "elif(Marks>80 and Marks<=90):\n",
    "    print(\"Well done, You've got 'B' !!\")\n",
    "elif(Marks>=60 and Marks<=80):\n",
    "    print(\"You've got 'C'! \")       \n",
    "elif(Marks<60):\n",
    "    print(\"You've got 'D', study harder next time!\")          \n",
    "elif(Marks>100):\n",
    "    print(\"Please enter Valid Percentage\")\n",
    "                  \n",
    "            \n",
    "        \n",
    "            "
   ]
  },
  {
   "cell_type": "code",
   "execution_count": 15,
   "id": "616a4d99-a187-4461-8710-c819e5d5a203",
   "metadata": {},
   "outputs": [
    {
     "name": "stdin",
     "output_type": "stream",
     "text": [
      "Please enter cost price of the bike 100001\n"
     ]
    },
    {
     "name": "stdout",
     "output_type": "stream",
     "text": [
      "ROAD TAX TO BE PAID IS RS\n",
      "15000.15\n"
     ]
    }
   ],
   "source": [
    "#2 Write a program to accept the cost price of bike and display the road tax to be paid accordingly.\n",
    "\n",
    "\n",
    "\n",
    "CP_BIKE = int(input(\"Please enter cost price of the bike\"))\n",
    "if(CP_BIKE>100000):\n",
    "    ROAD_TAX = CP_BIKE * 0.15\n",
    "    print(\"ROAD TAX TO BE PAID IS RS\")\n",
    "    print(ROAD_TAX)\n",
    "elif(CP_BIKE>50000 and CP_BIKE <=100000):\n",
    "    ROAD_TAX = CP_BIKE * 0.10\n",
    "    print(\"ROAD TAX TO BE PAID IS RS\")\n",
    "    print(ROAD_TAX)\n",
    "elif(CP_BIKE<50000):\n",
    "    ROAD_TAX = CP_BIKE * 0.5\n",
    "    print(\"ROAD TAX TO BE PAID IS RS\")\n",
    "    print(ROAD_TAX)\n",
    "\n"
   ]
  },
  {
   "cell_type": "code",
   "execution_count": 4,
   "id": "4875b342-dab7-4ab9-a7cd-c57231a817e5",
   "metadata": {},
   "outputs": [
    {
     "name": "stdin",
     "output_type": "stream",
     "text": [
      "ENTER CITY NAME:  delhI\n"
     ]
    },
    {
     "name": "stdout",
     "output_type": "stream",
     "text": [
      "TAJ MAHAL\n"
     ]
    }
   ],
   "source": [
    "#3 Accept any city from the user and display monuments of that city.\n",
    "\n",
    "\n",
    "\n",
    "CITY =  input(\"ENTER CITY NAME: \")\n",
    "if(CITY.upper()=='PUNE' or CITY.lower()=='pune'):\n",
    "    print(\"SHANIWAR WADA\")\n",
    "elif(CITY.upper()=='JAIPUR' or CITY.lower()=='jaipur'):\n",
    "    print(\"HAWA MAHAL\")\n",
    "elif(CITY.upper()=='AHMEDABAD' or CITY.lower()=='ahmedabad'):\n",
    "    print(\"1.THREE GATES\\n2.BHADRA TOWER \")\n",
    "elif(CITY.upper()=='KOLKATA' or CITY.lower()=='kolkata'):\n",
    "    print(\"HOWRAH BRIDGE\")\n",
    "elif(CITY.upper()=='MUMBAI' or CITY.lower()=='mumbai'):\n",
    "    print(\"GATEWAY OF INDIA\")\n",
    "elif(CITY.upper()=='AGRA' or CITY.lower()=='agra'):\n",
    "    print(\"TAJ MAHAL\")\n",
    "elif(CITY.upper()=='DELHI' or CITY.lower()=='delhi'):\n",
    "    print(\"TAJ MAHAL\")\n",
    "\n",
    "\n",
    "        \n"
   ]
  },
  {
   "cell_type": "code",
   "execution_count": 17,
   "id": "9d87415d-d286-4516-ab6f-751ba858e986",
   "metadata": {},
   "outputs": [
    {
     "name": "stdin",
     "output_type": "stream",
     "text": [
      "Please Enter a Number: 741\n"
     ]
    },
    {
     "name": "stdout",
     "output_type": "stream",
     "text": [
      "4\n"
     ]
    }
   ],
   "source": [
    "#4 Check how many times a given number can be divided by 3 before it's less than or equal to 10\n",
    "\n",
    "\n",
    "count=0\n",
    "\n",
    "Number = int(input(\"Please Enter a Number:\"))\n",
    "while Number!= 0:\n",
    "    Number=Number/3\n",
    "    count+=1\n",
    "    if(Number<=10):\n",
    "        break\n",
    "print(count)\n",
    "    \n"
   ]
  },
  {
   "cell_type": "markdown",
   "id": "8fccc6b6-1801-4549-b882-13702787c4d6",
   "metadata": {},
   "source": [
    "#5 Why and when to use while loop in Python give a detailed description with examples\n",
    "\n",
    "#WHY WHILE LOOP IS USED?\n",
    "\n",
    "Python While Loop is used to execute a block of statements repeatedly until a given condition is satisfied. \n",
    "And when the condition becomes false, the line immediately after the loop in the program is executed.\n",
    "\n",
    "With the while loop we can execute a set of statements as long as a condition is true.\n",
    "\n",
    "#SYNTAX OF WHILE LOOP:\n",
    "\n",
    "while conditional_expression:  \n",
    "    Code block of while  \n",
    "    \n",
    "The given condition, i.e., conditional_expression, is evaluated initially in the Python while loop. \n",
    "Then, if the conditional expression gives a boolean value True, the while loop statements are executed. \n",
    "The conditional expression is verified again when the complete code block is executed. \n",
    "This procedure repeatedly occurs until the conditional expression returns the boolean value False.\n",
    "\n",
    "#WHILE LOOP :\n",
    "\n",
    "The statements of the Python while loop are dictated by indentation.\n",
    "The code block begins when a statement is indented & ends with the very first unindented statement.\n",
    "Any non-zero number in Python is interpreted as boolean True. False is interpreted as None and 0.\n",
    "\n",
    "\n",
    "#WHEN TO USE WHILE LOOP?\n",
    "A \"While\" Loop is used to repeat a specific block of code an unknown number of times, until a condition is met. \n",
    "For example, if we want to ask a user for a number between 1 and 10, \n",
    "we don't know how many times the user may enter a larger number, \n",
    "so we keep asking \"while the number is not between 1 and 10\".\n"
   ]
  },
  {
   "cell_type": "code",
   "execution_count": 4,
   "id": "295e8a6c-55a0-4c6c-9b54-bafc1b763d98",
   "metadata": {},
   "outputs": [
    {
     "name": "stdout",
     "output_type": "stream",
     "text": [
      "The sum of squares is 1240\n"
     ]
    }
   ],
   "source": [
    "# EXAMPLE OF WHILE LOOP\n",
    "\n",
    "# Python program example to show the use of while loop   \n",
    "  \n",
    "num = 15  \n",
    "  \n",
    "# initializing summation and a counter for iteration  \n",
    "summation = 0  \n",
    "c = 1  \n",
    "  \n",
    "while c <= num: # specifying the condition of the loop  \n",
    "    # begining the code block  \n",
    "    summation = c**2 + summation  \n",
    "    c = c + 1    # incrementing the counter  \n",
    "  \n",
    "# print the final sum  \n",
    "print(\"The sum of squares is\", summation)  \n",
    "\n",
    "\n",
    "\"\"\"\n",
    "Provided that our counter parameter i gives boolean true for the condition, i less than or equal to num, \n",
    "the loop repeatedly executes the code block i number of times.\n",
    "\n",
    "Next is a crucial point (which is mostly forgotten).\n",
    "We have to increment the counter parameter's value in the loop's statements. \n",
    "If we don't, our while loop will execute itself indefinitely (a never-ending loop).\n",
    "\n",
    "Finally, we print the result using the print statement.\n",
    "\n",
    "\"\"\""
   ]
  },
  {
   "cell_type": "code",
   "execution_count": 2,
   "id": "4fa47e79-1f95-4c85-b3de-7bc8d55f2d93",
   "metadata": {},
   "outputs": [
    {
     "name": "stdin",
     "output_type": "stream",
     "text": [
      "Enter number of rows :  5\n"
     ]
    },
    {
     "name": "stdout",
     "output_type": "stream",
     "text": [
      "* \n",
      "* * \n",
      "* * * \n",
      "* * * * \n",
      "* * * * * \n",
      "\n",
      "\n",
      "* * * * * \n",
      "* * * * * \n",
      "* * * * * \n",
      "* * * * * \n",
      "* * * * * \n",
      "\n",
      "\n",
      "* * * * * \n",
      "* * * * \n",
      "* * * \n",
      "* * \n",
      "* \n"
     ]
    }
   ],
   "source": [
    "#6 Use a nested while loop to print 3 different patterns.\n",
    "\n",
    "n = int(input('Enter number of rows : '))\n",
    " \n",
    "i = 1\n",
    "while i <= n : #row\n",
    "    j = 1\n",
    "    while j <= i: #column\n",
    "        print(\"*\", end = \" \")\n",
    "        j += 1\n",
    "    print()\n",
    "    i += 1\n",
    "print(\"\\n\") \n",
    "i = 1\n",
    "while i <= n :\n",
    "    j = 1\n",
    "    while j <= n:\n",
    "        print(\"*\", end = \" \")\n",
    "        j += 1\n",
    "    print()\n",
    "    i += 1\n",
    "print(\"\\n\")   \n",
    "i=1\n",
    "while i <=n :\n",
    "    j = 1\n",
    "    while j <= n+1-i:\n",
    "        print(\"*\", end = \" \")\n",
    "        j += 1\n",
    "    print()\n",
    "    i += 1\n"
   ]
  },
  {
   "cell_type": "code",
   "execution_count": 3,
   "id": "249b0f08-63bf-4333-90d5-fb4aec6387dc",
   "metadata": {},
   "outputs": [
    {
     "name": "stdout",
     "output_type": "stream",
     "text": [
      "10\n",
      "9\n",
      "8\n",
      "7\n",
      "6\n",
      "5\n",
      "4\n",
      "3\n",
      "2\n",
      "1\n"
     ]
    }
   ],
   "source": [
    "# Reverse a while loop to display numbers from 10 to 1\n",
    "\n",
    "number=10\n",
    "i=1\n",
    "while number>=i:\n",
    "    print(number)\n",
    "    number=number-1\n",
    "    "
   ]
  },
  {
   "cell_type": "code",
   "execution_count": 5,
   "id": "933cf941-191a-42fd-8e57-bcbe8b6c4351",
   "metadata": {},
   "outputs": [
    {
     "name": "stdout",
     "output_type": "stream",
     "text": [
      "10\n",
      "9\n",
      "8\n",
      "7\n",
      "6\n",
      "5\n",
      "4\n",
      "3\n",
      "2\n",
      "1\n"
     ]
    }
   ],
   "source": [
    "# Reverse a while loop to display numbers from 10 to 1\n",
    "\n",
    "number=10\n",
    "i=1\n",
    "while number>=i:\n",
    "    print(number)\n",
    "    number=number-1\n",
    "    "
   ]
  },
  {
   "cell_type": "code",
   "execution_count": null,
   "id": "6e67356c-7eb0-45ec-8f97-5b93ebcf7202",
   "metadata": {},
   "outputs": [],
   "source": []
  }
 ],
 "metadata": {
  "kernelspec": {
   "display_name": "Python 3 (ipykernel)",
   "language": "python",
   "name": "python3"
  },
  "language_info": {
   "codemirror_mode": {
    "name": "ipython",
    "version": 3
   },
   "file_extension": ".py",
   "mimetype": "text/x-python",
   "name": "python",
   "nbconvert_exporter": "python",
   "pygments_lexer": "ipython3",
   "version": "3.10.8"
  }
 },
 "nbformat": 4,
 "nbformat_minor": 5
}
