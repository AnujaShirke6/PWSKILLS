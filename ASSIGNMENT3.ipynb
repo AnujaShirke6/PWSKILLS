{
 "cells": [
  {
   "cell_type": "markdown",
   "id": "6a401322-dd20-4c01-be96-833c1d8111dd",
   "metadata": {},
   "source": [
    "PW_ASSIGNMENT 3"
   ]
  },
  {
   "cell_type": "markdown",
   "id": "59a3104f-ca83-461d-ae0a-9b2d99bf5aa4",
   "metadata": {},
   "source": [
    "Q1 Which keyword is used to create a function? Create a function to return a list of odd numbers in the range of 1 to 25.\n",
    "\n",
    "=> The def keyword is used to create, (or define) a function. "
   ]
  },
  {
   "cell_type": "code",
   "execution_count": 8,
   "id": "b5d5c641-6114-46a3-9a28-352696d36da7",
   "metadata": {},
   "outputs": [],
   "source": [
    "#Create a function to return a list of odd numbers in the range of 1 to 25.\n",
    "\n",
    "def oddnos():\n",
    "    l1=[]\n",
    "    for i in (range(1,26)):\n",
    "        if(i%2!=0):\n",
    "            l1.append(i)\n",
    "    return(l1)\n",
    "            "
   ]
  },
  {
   "cell_type": "code",
   "execution_count": 9,
   "id": "f181ce51-064a-4dc7-82f6-6a13276a4e52",
   "metadata": {},
   "outputs": [
    {
     "data": {
      "text/plain": [
       "[1, 3, 5, 7, 9, 11, 13, 15, 17, 19, 21, 23, 25]"
      ]
     },
     "execution_count": 9,
     "metadata": {},
     "output_type": "execute_result"
    }
   ],
   "source": [
    "oddnos()"
   ]
  },
  {
   "cell_type": "markdown",
   "id": "eec31045-fc72-4164-a159-d1163546cf2e",
   "metadata": {},
   "source": [
    "Q2 Why *args and **kwargs is used in some functions? Create a function each for *args and **kwargs\n",
    "to demonstrate their use."
   ]
  },
  {
   "cell_type": "code",
   "execution_count": 23,
   "id": "4968ed89-577d-47af-9b78-5152f499029c",
   "metadata": {},
   "outputs": [
    {
     "name": "stdout",
     "output_type": "stream",
     "text": [
      "Sum:  15\n"
     ]
    }
   ],
   "source": [
    "\"\"\"Before understanding what Python *args and Python **kwargs are, let us understand why there were created and what are their uses. \n",
    "In Python, we pass arguments to the user-defined functions in order to execute the operations in the function. \n",
    "Let us consider an example where we create a function for the addition of numbers. \n",
    "We pass 2 parameters to the function for adding numbers. The code is as follows:\"\"\"\n",
    "\n",
    "def add(x,y):\n",
    "    print(\"Sum: \", x+y)\n",
    "\n",
    "add(5, 10)\n",
    "\n",
    "\"\"\"Suppose we pass more than 2 parameters in the above program, will the program work? What will the output display?\n",
    "It will throw an error TypeError: add() takes 2 positional arguments but 4 were given\n",
    "\n",
    "What if we want to add 10 numbers using the same function? What if we want to pass a large number of data values as arguments to the function? \n",
    "We cannot always define the number of parameters in the function according to the values passed in the function. \n",
    "We cannot define 100 variables in the function if we have passed 100 values to the function for performing a mathematical operation.\n",
    "\n",
    "In such cases, we take the elp of special symbols pre-defined by Python which are known as *args and **kwargs. \n",
    "The args stands for arguments that are passed to the function whereas kwargs stands for keyword arguments which are passed along with the values into the function. \n",
    "\"\"\""
   ]
  },
  {
   "cell_type": "markdown",
   "id": "13f9aeea-06a9-45ed-a855-b88cf6a6c10c",
   "metadata": {},
   "source": [
    "Special Symbols Used for passing arguments:-\n",
    "\n",
    "*args (Non-Keyword Arguments)\n",
    "**kwargs (Keyword Arguments)\n",
    "\n",
    "*args (Non-keyword Arguments/Positional Arguments) –\n",
    "*args allows a function to accept any number of positional arguments i.e. arguments that are non-keyword arguments, variable-length argument list.\n",
    "\n",
    "**kwargs (Keyword Arguments) –\n",
    "**kwargs is a special syntax that allows us to pass a variable length of keyword arguments to the function.\n",
    "\n",
    "Python *args\n",
    "\n",
    "Python has an *args which allows the user to pass a multiple number of arguments to the function. Python *args allows only Positional Arguments.\n",
    "\n",
    "Note – Positional Arguments are those arguments that do not contain any keyword related to the data value. \n",
    "For example, age = 38. Age is a keyword associated with data value 38. \n",
    "In Python *args, we do not define any keywords to the arguments while passing values to the function.\n",
    "\n",
    "We use the single-asterisk (*) symbol for passing it as a parameter to the functions.\n",
    "args is just a word, we need to use the (*) symbol before it. We can use any alphabet/word instead of args.\n",
    "*args accepts all the parameters passed to the function and computes the function operations for each of them."
   ]
  },
  {
   "cell_type": "code",
   "execution_count": 15,
   "id": "b9b4f1df-42c5-41ed-b063-2a9ece19207f",
   "metadata": {},
   "outputs": [
    {
     "name": "stdout",
     "output_type": "stream",
     "text": [
      "Sum: 8\n",
      "Sum: 25\n",
      "Sum: 32\n"
     ]
    }
   ],
   "source": [
    "# Program to add and display the sum of n number of integer\n",
    "\n",
    "def add(*num):\n",
    "    sum = 0;\n",
    "    for n in num:\n",
    "        sum = sum + n;\n",
    "    print(\"Sum:\", sum)\n",
    "\n",
    "add(2,6)\n",
    "add(3,4,5,6,7)\n",
    "add(1,2,3,5,6,7,8)"
   ]
  },
  {
   "cell_type": "code",
   "execution_count": 16,
   "id": "8eb16138-edbb-4b81-8073-f483af7ee093",
   "metadata": {},
   "outputs": [
    {
     "name": "stdout",
     "output_type": "stream",
     "text": [
      "('Sean', 'Male', 38, 'London', 9375821987)\n"
     ]
    }
   ],
   "source": [
    "\"\"\" In the above program, we do not face any issue of passing a variable number of arguments. \n",
    "The *num accepts all the parameters passed in the function add() and computes summation for all the values.\n",
    "\n",
    "Note – Python *args can also print data of various types which is passed into the function. \n",
    "For example, Information related to a person such as Name, Sex, Age, City, Mobile number, etc. \"\"\"\n",
    "\n",
    "\n",
    "def Person(*args):\n",
    "    print(args)\n",
    "\n",
    "Person('Sean', 'Male', 38, 'London', 9375821987)\n"
   ]
  },
  {
   "cell_type": "markdown",
   "id": "f5b36126-2341-44b1-a5ab-8f5a9005c3bc",
   "metadata": {},
   "source": [
    "Python **kwargs\n",
    "\n",
    "\n",
    "One limitation of Python *args is that it does not accept any keyword arguments. \n",
    "Consider the above example, the program will print all the values passed to the function. \n",
    "But how will we identify what London is? Is it the city he lives in? Is it the work location? Is it a state? What is 38? \n",
    "Is it age, salary, person_id? For such an issue, Python has a special symbol called as **kwargs.\n",
    "\n",
    "**kwargs allows us to pass a variable number of keyworded arguments to the function. Python *kwargs allows only Keyword Arguments.\n",
    "\n",
    "We use a double-asterisk (**) before the parameter name in the function argument.\n",
    "Just like args, kwargs is just another idiom, we can use any other name but we need to use the (**) symbol before it.\n",
    "Keyword arguments are like a dictionary, which maps the value to its associated key."
   ]
  },
  {
   "cell_type": "code",
   "execution_count": 17,
   "id": "d1d4d0af-7bc7-4b20-a83a-63816ab3a53d",
   "metadata": {},
   "outputs": [
    {
     "data": {
      "text/plain": [
       "{'Name': 'Sean',\n",
       " 'Sex': 'Male',\n",
       " 'Age': 38,\n",
       " 'City': 'London',\n",
       " 'Mobile': 9375821987}"
      ]
     },
     "execution_count": 17,
     "metadata": {},
     "output_type": "execute_result"
    }
   ],
   "source": [
    "\n",
    "# Print values of function Person along with its associated keywords\n",
    "def Person(**kwargs):\n",
    "    return(kwargs)\n",
    "\n",
    "Person(Name = 'Sean', Sex = 'Male', Age = 38, City = 'London', Mobile = 9375821987)\n"
   ]
  },
  {
   "cell_type": "code",
   "execution_count": 19,
   "id": "b05c78ac-620e-4d85-8d13-f0f0207b3843",
   "metadata": {},
   "outputs": [
    {
     "name": "stdout",
     "output_type": "stream",
     "text": [
      "Name -> Sean\n",
      "Sex -> Male\n",
      "Age -> 38\n",
      "City -> London\n",
      "Mobile -> 9375821987\n"
     ]
    }
   ],
   "source": [
    "# Print values of function Person along with its associated keywords\n",
    "def Person(**kwargs):\n",
    "    for key, value in kwargs.items():\n",
    "        print(\"{} -> {}\".format(key, value))    # OR print(f'{key} -> {value}')\n",
    "        \n",
    "\n",
    "Person(Name = 'Sean', Sex = 'Male', Age = 38, City = 'London', Mobile = 9375821987)\n"
   ]
  },
  {
   "cell_type": "code",
   "execution_count": 20,
   "id": "1b370948-016f-4252-b95a-6a8e6e7476d3",
   "metadata": {},
   "outputs": [
    {
     "name": "stdout",
     "output_type": "stream",
     "text": [
      "1 3\n",
      "(10, 20)\n",
      "False\n",
      "{'Name': 'Tom', 'Salary': 60000}\n"
     ]
    }
   ],
   "source": [
    "\"\"\" In the above program, keywords Name, Sex, Age, City, Mobile gives more clarity of the data we have printed. \n",
    "This does not create any confusion and saves the users coding time. Hence, **kwargs use keywords associated with data values passed to the function.\n",
    "\n",
    "We can use both the *args and **kwargs in a function together. But remember that *args need to be declared before **kwargs always. \"\"\"\n",
    "\n",
    "\n",
    "def func(a, b, *args, option = False, **kwargs):\n",
    "    print(a, b)\n",
    "    print(args)\n",
    "    print(option)\n",
    "    print(kwargs)\n",
    "\n",
    "func(1, 3, 10, 20, Name = 'Tom', Salary = 60000)\n"
   ]
  },
  {
   "cell_type": "markdown",
   "id": "c57b2c45-4cec-4366-8c02-3278292ae94c",
   "metadata": {},
   "source": [
    "Q3 What is an iterator in python? Name the method used to initialise the iterator object and the method\n",
    "used for iteration. Use these methods to print the first five elements of the given list [2, 4, 6, 8, 10, 12, 14,\n",
    "16, 18, 20].\n",
    " \n",
    "==>\n",
    "\n",
    "An iterator is an object that contains a countable number of values.\n",
    "\n",
    "An iterator is an object that can be iterated upon, meaning that you can traverse through all the values.\n",
    "\n",
    "It is used to abstract a container of data to make it behave like an iterable object.\n",
    "Iterators are methods that iterate collections like lists, tuples, etc. Using an iterator method, we can loop through an object and return its elements.\n",
    "\n",
    "Technically, in Python, an iterator is an object which implements the iterator protocol, which consist of the methods __iter__() and __next__()."
   ]
  },
  {
   "cell_type": "raw",
   "id": "0686bec8-b311-4abb-8b4f-359e015e0e88",
   "metadata": {},
   "source": [
    "iter(): The iter() method is called for the initialization of an iterator. This returns an iterator object\n",
    "next(): The next method returns the next value for the iterable. When we use a for loop to traverse any iterable object, internally it uses the iter() method to get an iterator object, which further uses the next() method to iterate over. \n",
    "This method raises a StopIteration to signal the end of the iteration.\n",
    "\n",
    "Iterable vs Iterator :\n",
    "\n",
    "iterable and iterator are different. The main difference between them is, iterable cannot save the state of the iteration, but whereas in iterators the state of the current iteration gets saved.\n",
    "\n",
    "Note: Every iterator is also an iterable, but not every iterable is an iterator in Python."
   ]
  },
  {
   "cell_type": "code",
   "execution_count": 26,
   "id": "fee6568c-99b0-4104-8ae2-09bc441c1b31",
   "metadata": {},
   "outputs": [
    {
     "name": "stdout",
     "output_type": "stream",
     "text": [
      "2\n",
      "4\n",
      "6\n",
      "8\n",
      "10\n",
      "12\n",
      "14\n",
      "16\n",
      "18\n",
      "20\n"
     ]
    }
   ],
   "source": [
    "\n",
    "#EXAMPLE \n",
    "\n",
    "list1=[2,4,6,8,10,12,14,16,18,20]\n",
    "iterator = iter(list1)\n",
    "print(next(iterator))\n",
    "print(next(iterator))\n",
    "print(next(iterator))\n",
    "print(next(iterator))\n",
    "print(next(iterator))\n",
    "print(next(iterator))\n",
    "print(next(iterator))\n",
    "print(next(iterator))\n",
    "print(next(iterator))\n",
    "print(next(iterator))\n",
    "\n",
    "\n",
    "\"\"\"\n",
    "Here, first we created an iterator from the list using the iter() method. \n",
    "And then used the next() function to retrieve the elements of the iterator in sequential order.\n",
    "When we reach the end and there is no more data to be returned, we will get the StopIteration Exception.\n",
    "\n",
    "\"\"\""
   ]
  },
  {
   "cell_type": "code",
   "execution_count": 27,
   "id": "41048810-6cb4-43ff-81c3-ee67d423708e",
   "metadata": {},
   "outputs": [
    {
     "name": "stdout",
     "output_type": "stream",
     "text": [
      "4\n",
      "7\n",
      "0\n"
     ]
    }
   ],
   "source": [
    "#Using for Loop\n",
    "#A more elegant way of automatically iterating is by using the for loop. For example,\n",
    "\n",
    "# define a list\n",
    "my_list = [4, 7, 0]\n",
    "\n",
    "for element in my_list:\n",
    "    print(element)"
   ]
  },
  {
   "cell_type": "markdown",
   "id": "9a99d4b4-ff72-401c-b252-331abeda213e",
   "metadata": {},
   "source": [
    "Q4. What is a generator function in python? Why yield keyword is used? Give an example of a generator\n",
    "function.\n",
    "\n",
    "==>\n",
    "Python Generator functions allow you to declare a function that behaves likes an iterator, allowing programmers to make an iterator in a fast, easy, and clean way. \n",
    "An iterator is an object that can be iterated or looped upon.\n",
    "\n",
    "Generators are functions that return an iterable generator object. \n",
    "The values from the generator object are fetched one at a time instead of the full list together and hence to get the actual values you can use a for-loop, using next() or list() method.\n",
    "\n",
    "\n",
    "In Python, a generator is a function that returns an iterator that produces a sequence of values when iterated over. \n",
    "Generators are useful when we want to produce a large sequence of values, but we don't want to store all of them in memory at once.\n",
    "\n",
    "\n",
    "What is Python yield? Why yield keyword is used?\n",
    "\n",
    "yield keyword is used to create a generator function. A type of function that is memory efficient and can be used like an iterator object. \n",
    "In layman terms, the yield keyword will turn any expression that is given with it into a generator object and return it to the caller.\n",
    "\n",
    "The yield keyword in python works like a return with the only difference is that instead of returning a value, it gives back a generator object to the caller.\n",
    "When a function is called and the thread of execution finds a yield keyword in the function, the function execution stops at that line itself and it returns a generator object back to the caller."
   ]
  },
  {
   "cell_type": "code",
   "execution_count": 2,
   "id": "0d19969c-42bd-44f5-8942-580809bc0cc4",
   "metadata": {},
   "outputs": [
    {
     "name": "stdout",
     "output_type": "stream",
     "text": [
      "The original list is : [1, 4, 5, 6, 7]\n",
      "The even numbers in list are :  4 6 "
     ]
    }
   ],
   "source": [
    "#Example\n",
    "# generator to print even numbers\n",
    "\n",
    "\n",
    "def print_even(test_list):\n",
    "    for i in test_list:\n",
    "        if i % 2 == 0:\n",
    "            yield i\n",
    " \n",
    "# initializing list\n",
    "test_list = [1, 4, 5, 6, 7]\n",
    " \n",
    "# printing initial list\n",
    "print(\"The original list is : \" + str(test_list))\n",
    " \n",
    "# printing even numbers\n",
    "print(\"The even numbers in list are : \", end=\" \")\n",
    "for j in print_even(test_list):\n",
    "    print(j, end=\" \")\n",
    "    \n"
   ]
  },
  {
   "cell_type": "markdown",
   "id": "d43aa95d-66a4-49fc-8f26-8feb45544a15",
   "metadata": {},
   "source": [
    "Q5. Create a generator function for prime numbers less than 1000. Use the next() method to print the\n",
    "first 20 prime numbers."
   ]
  },
  {
   "cell_type": "code",
   "execution_count": 9,
   "id": "2fd299bc-ec51-4192-a492-523da4e11b8c",
   "metadata": {},
   "outputs": [],
   "source": [
    "def getPrimes(n):\n",
    "    i = 2\n",
    "    while i < n :\n",
    "        prime = True \n",
    "        for a in range(2, i):\n",
    "            if i%a == 0:\n",
    "                prime = False\n",
    "                break\n",
    "        if prime:\n",
    "            yield i\n",
    "        i += 1"
   ]
  },
  {
   "cell_type": "code",
   "execution_count": 37,
   "id": "d0e950a6-c379-4226-afc4-050b9f8b93b8",
   "metadata": {},
   "outputs": [
    {
     "name": "stdout",
     "output_type": "stream",
     "text": [
      "2\n",
      "3\n",
      "5\n",
      "7\n",
      "11\n",
      "13\n",
      "17\n",
      "19\n",
      "23\n",
      "29\n",
      "31\n",
      "37\n",
      "41\n",
      "43\n",
      "47\n",
      "53\n",
      "59\n",
      "61\n",
      "67\n",
      "71\n",
      "71\n",
      "73\n",
      "79\n",
      "83\n",
      "89\n",
      "97\n",
      "101\n",
      "103\n",
      "107\n",
      "109\n",
      "113\n",
      "127\n",
      "131\n",
      "137\n",
      "139\n",
      "149\n",
      "151\n",
      "157\n",
      "163\n",
      "167\n",
      "173\n",
      "179\n",
      "181\n",
      "191\n",
      "193\n",
      "197\n",
      "199\n",
      "211\n",
      "223\n",
      "227\n",
      "229\n",
      "233\n",
      "239\n",
      "241\n",
      "251\n",
      "257\n",
      "263\n",
      "269\n",
      "271\n",
      "277\n",
      "281\n",
      "283\n",
      "293\n",
      "307\n",
      "311\n",
      "313\n",
      "317\n",
      "331\n",
      "337\n",
      "347\n",
      "349\n",
      "353\n",
      "359\n",
      "367\n",
      "373\n",
      "379\n",
      "383\n",
      "389\n",
      "397\n",
      "401\n",
      "409\n",
      "419\n",
      "421\n",
      "431\n",
      "433\n",
      "439\n",
      "443\n",
      "449\n",
      "457\n",
      "461\n",
      "463\n",
      "467\n",
      "479\n",
      "487\n",
      "491\n",
      "499\n",
      "503\n",
      "509\n",
      "521\n",
      "523\n",
      "541\n",
      "547\n",
      "557\n",
      "563\n",
      "569\n",
      "571\n",
      "577\n",
      "587\n",
      "593\n",
      "599\n",
      "601\n",
      "607\n",
      "613\n",
      "617\n",
      "619\n",
      "631\n",
      "641\n",
      "643\n",
      "647\n",
      "653\n",
      "659\n",
      "661\n",
      "673\n",
      "677\n",
      "683\n",
      "691\n",
      "701\n",
      "709\n",
      "719\n",
      "727\n",
      "733\n",
      "739\n",
      "743\n",
      "751\n",
      "757\n",
      "761\n",
      "769\n",
      "773\n",
      "787\n",
      "797\n",
      "809\n",
      "811\n",
      "821\n",
      "823\n",
      "827\n",
      "829\n",
      "839\n",
      "853\n",
      "857\n",
      "859\n",
      "863\n",
      "877\n",
      "881\n",
      "883\n",
      "887\n",
      "907\n",
      "911\n",
      "919\n",
      "929\n",
      "937\n",
      "941\n",
      "947\n",
      "953\n",
      "967\n",
      "971\n",
      "977\n",
      "983\n",
      "991\n",
      "997\n"
     ]
    }
   ],
   "source": [
    "a=getPrimes(1000)\n",
    "b=[]\n",
    "for i in a:\n",
    "    if(i<=71):\n",
    "        b.append(i)\n",
    "        b_iter = iter(b)\n",
    "i= print(next(b_iter))\n",
    "i= print(next(b_iter))\n",
    "i= print(next(b_iter))\n",
    "i= print(next(b_iter))\n",
    "i= print(next(b_iter))\n",
    "i= print(next(b_iter))\n",
    "i= print(next(b_iter))\n",
    "i= print(next(b_iter))\n",
    "i= print(next(b_iter))\n",
    "i= print(next(b_iter))\n",
    "i= print(next(b_iter))\n",
    "i= print(next(b_iter))\n",
    "i= print(next(b_iter))\n",
    "i= print(next(b_iter))\n",
    "i= print(next(b_iter))\n",
    "i= print(next(b_iter))\n",
    "i= print(next(b_iter))\n",
    "i= print(next(b_iter))\n",
    "i= print(next(b_iter))\n",
    "i= print(next(b_iter))\n",
    "\n",
    "a=getPrimes(1000)\n",
    "for i in a:\n",
    "    if(i>=71):\n",
    "        print(i)\n",
    "        \n"
   ]
  },
  {
   "cell_type": "markdown",
   "id": "6f94d03c-6733-4afc-ade5-1b1858a621e3",
   "metadata": {},
   "source": [
    "Q6. Write a python program to print the first 10 Fibonacci numbers using a while loop."
   ]
  },
  {
   "cell_type": "code",
   "execution_count": 5,
   "id": "ba34c914-2546-48d0-9313-919f2ef506ea",
   "metadata": {},
   "outputs": [
    {
     "name": "stdout",
     "output_type": "stream",
     "text": [
      "0\n",
      "1\n",
      "1\n",
      "2\n",
      "3\n",
      "5\n",
      "8\n",
      "13\n",
      "21\n",
      "34\n"
     ]
    }
   ],
   "source": [
    "number=10\n",
    "a,b=0,1\n",
    "counter=0\n",
    "while counter<number:\n",
    "    print(a)\n",
    "    c=a+b\n",
    "    a=b\n",
    "    b=c\n",
    "    counter+=1"
   ]
  },
  {
   "cell_type": "markdown",
   "id": "11114348-8c20-45a8-b927-f2f2ec65a36a",
   "metadata": {},
   "source": [
    "Q7. Write a List Comprehension to iterate through the given string: ‘pwskills’.\n",
    "Expected output: ['p', 'w', 's', 'k', 'i', 'l', 'l', 's']"
   ]
  },
  {
   "cell_type": "code",
   "execution_count": 3,
   "id": "8eaf7d12-39a9-4e17-883c-ea2e8276a353",
   "metadata": {},
   "outputs": [
    {
     "name": "stdout",
     "output_type": "stream",
     "text": [
      "['p', 'w', 's', 'k', 'i', 'l', 'l', 's']\n"
     ]
    }
   ],
   "source": [
    "l1=[]\n",
    "for i in \"pwskills\":\n",
    "    l1.append(i)\n",
    "print(l1)"
   ]
  },
  {
   "cell_type": "markdown",
   "id": "efdf396f-5651-4039-bde6-5b0ab1e25147",
   "metadata": {},
   "source": [
    "Q8. Write a python program to check whether a given number is Palindrome or not using a while loop."
   ]
  },
  {
   "cell_type": "code",
   "execution_count": 8,
   "id": "291cc024-9450-4e2a-b7e9-3ab21043d202",
   "metadata": {},
   "outputs": [
    {
     "name": "stdin",
     "output_type": "stream",
     "text": [
      "Enter a number: 1556\n"
     ]
    },
    {
     "name": "stdout",
     "output_type": "stream",
     "text": [
      "Not a palindrome!\n"
     ]
    }
   ],
   "source": [
    "num=int(input(\"Enter a number:\"))\n",
    "temp=num\n",
    "rev=0\n",
    "while(num>0):\n",
    "    dig=num%10\n",
    "    rev=rev*10+dig\n",
    "    num=num//10\n",
    "if(temp==rev):\n",
    "    print(\"The number is palindrome!\")\n",
    "else:\n",
    "    print(\"Not a palindrome!\")"
   ]
  },
  {
   "cell_type": "markdown",
   "id": "c3d49bcc-ee1c-4e8f-b36a-97e11419acbc",
   "metadata": {},
   "source": [
    "Q9. Write a code to print odd numbers from 1 to 100 using list comprehension."
   ]
  },
  {
   "cell_type": "code",
   "execution_count": 7,
   "id": "53d02dad-d2ea-408f-b2b8-c64a4e669ec4",
   "metadata": {},
   "outputs": [
    {
     "name": "stdout",
     "output_type": "stream",
     "text": [
      "[1, 3, 5, 7, 9, 11, 13, 15, 17, 19, 21, 23, 25, 27, 29, 31, 33, 35, 37, 39, 41, 43, 45, 47, 49, 51, 53, 55, 57, 59, 61, 63, 65, 67, 69, 71, 73, 75, 77, 79, 81, 83, 85, 87, 89, 91, 93, 95, 97, 99]\n"
     ]
    }
   ],
   "source": [
    "numbers= range(1,101)\n",
    "odd_numbers=[]\n",
    "for i in numbers:\n",
    "    if(i%2!=0):\n",
    "        odd_numbers.append(i)\n",
    "print(odd_numbers)"
   ]
  }
 ],
 "metadata": {
  "kernelspec": {
   "display_name": "Python 3 (ipykernel)",
   "language": "python",
   "name": "python3"
  },
  "language_info": {
   "codemirror_mode": {
    "name": "ipython",
    "version": 3
   },
   "file_extension": ".py",
   "mimetype": "text/x-python",
   "name": "python",
   "nbconvert_exporter": "python",
   "pygments_lexer": "ipython3",
   "version": "3.10.8"
  }
 },
 "nbformat": 4,
 "nbformat_minor": 5
}
