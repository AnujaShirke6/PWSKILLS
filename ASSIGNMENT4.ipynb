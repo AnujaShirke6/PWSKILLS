{
 "cells": [
  {
   "cell_type": "code",
   "execution_count": null,
   "id": "6e866ecd-465d-40b5-8407-6e92c679cab5",
   "metadata": {},
   "outputs": [],
   "source": [
    "PW_ASSIGNMENT : 4"
   ]
  },
  {
   "cell_type": "code",
   "execution_count": null,
   "id": "5dca6d9b-0732-4024-b197-77f7a4505a21",
   "metadata": {},
   "outputs": [],
   "source": []
  },
  {
   "cell_type": "markdown",
   "id": "6003d560-2c58-4ac6-a511-b16edc64efb5",
   "metadata": {},
   "source": [
    "Q1. Create a python program to sort the given list of tuples based on integer value using a\n",
    "lambda function.\n",
    "[('Sachin Tendulkar', 34357), ('Ricky Ponting', 27483), ('Jack Kallis', 25534), ('Virat Kohli', 24936)]"
   ]
  },
  {
   "cell_type": "code",
   "execution_count": 8,
   "id": "32f52ea2-e4ec-4df8-9bb3-1c2159b522de",
   "metadata": {},
   "outputs": [],
   "source": [
    "List=[('Sachin Tendulkar', 34357), ('Ricky Ponting', 27483), ('Jack Kallis', 25534), ('Virat Kohli', 24936)]"
   ]
  },
  {
   "cell_type": "code",
   "execution_count": 9,
   "id": "564634bc-1261-4ea4-b2f1-3b559e1f94ad",
   "metadata": {},
   "outputs": [
    {
     "data": {
      "text/plain": [
       "[('Sachin Tendulkar', 34357),\n",
       " ('Ricky Ponting', 27483),\n",
       " ('Jack Kallis', 25534),\n",
       " ('Virat Kohli', 24936)]"
      ]
     },
     "execution_count": 9,
     "metadata": {},
     "output_type": "execute_result"
    }
   ],
   "source": [
    "List"
   ]
  },
  {
   "cell_type": "code",
   "execution_count": 10,
   "id": "c5973989-fef0-42a5-811d-615acd12c390",
   "metadata": {},
   "outputs": [],
   "source": [
    "List.sort(key=lambda x:x[1])"
   ]
  },
  {
   "cell_type": "code",
   "execution_count": 12,
   "id": "fc4ac197-b9c3-433d-8dc9-60e011b7db6d",
   "metadata": {},
   "outputs": [
    {
     "data": {
      "text/plain": [
       "[('Virat Kohli', 24936),\n",
       " ('Jack Kallis', 25534),\n",
       " ('Ricky Ponting', 27483),\n",
       " ('Sachin Tendulkar', 34357)]"
      ]
     },
     "execution_count": 12,
     "metadata": {},
     "output_type": "execute_result"
    }
   ],
   "source": [
    "List"
   ]
  },
  {
   "cell_type": "markdown",
   "id": "06844337-0364-43a9-bfb1-6df1aab62378",
   "metadata": {},
   "source": []
  },
  {
   "cell_type": "markdown",
   "id": "1701cf0e-ad9d-4a64-a1d1-200b886ea64b",
   "metadata": {},
   "source": []
  },
  {
   "cell_type": "markdown",
   "id": "d4133d70-38f5-4a6d-bc9a-81469ad05acd",
   "metadata": {},
   "source": [
    "Q2. Write a Python Program to find the squares of all the numbers in the given list of integers using\n",
    "lambda and map functions.\n",
    "[1, 2, 3, 4, 5, 6, 7, 8, 9, 10]"
   ]
  },
  {
   "cell_type": "code",
   "execution_count": 14,
   "id": "c3eaad89-3353-4a00-9a62-3aeba507bb51",
   "metadata": {},
   "outputs": [
    {
     "data": {
      "text/plain": [
       "[1, 2, 3, 4, 5, 6, 7, 8, 9, 10]"
      ]
     },
     "execution_count": 14,
     "metadata": {},
     "output_type": "execute_result"
    }
   ],
   "source": [
    "Numbers=[1,2,3,4,5,6,7,8,9,10]\n",
    "Numbers"
   ]
  },
  {
   "cell_type": "code",
   "execution_count": 15,
   "id": "95efa296-2476-460d-aaa0-79e7de7c840a",
   "metadata": {},
   "outputs": [
    {
     "data": {
      "text/plain": [
       "[1, 4, 9, 16, 25, 36, 49, 64, 81, 100]"
      ]
     },
     "execution_count": 15,
     "metadata": {},
     "output_type": "execute_result"
    }
   ],
   "source": [
    "list(map(lambda x:x**2,Numbers))"
   ]
  },
  {
   "cell_type": "markdown",
   "id": "111886fa-255c-402d-a4ab-b61dd34d3b89",
   "metadata": {},
   "source": []
  },
  {
   "cell_type": "markdown",
   "id": "1c78930f-5274-438b-b2b6-4352d1d9f38f",
   "metadata": {},
   "source": []
  },
  {
   "cell_type": "markdown",
   "id": "2d98ffb2-777e-453e-bc74-60ed8b021c69",
   "metadata": {},
   "source": [
    "Q3. Write a python program to convert the given list of integers into a tuple of strings. Use map and\n",
    "lambda functions\n",
    "Given String: [1, 2, 3, 4, 5, 6, 7, 8, 9, 10]\n",
    "Expected output: ('1', '2', '3', '4', '5', '6', '7', '8', '9', '10')"
   ]
  },
  {
   "cell_type": "code",
   "execution_count": 18,
   "id": "757876cd-930f-4fc9-9abb-cae6d6d7a17b",
   "metadata": {},
   "outputs": [
    {
     "data": {
      "text/plain": [
       "[1, 2, 3, 4, 5, 6, 7, 8, 9, 10]"
      ]
     },
     "execution_count": 18,
     "metadata": {},
     "output_type": "execute_result"
    }
   ],
   "source": [
    "String=[1,2,3,4,5,6,7,8,9,10]\n",
    "String"
   ]
  },
  {
   "cell_type": "code",
   "execution_count": 28,
   "id": "8379f4eb-b334-425e-809f-343c1e9cbf7d",
   "metadata": {},
   "outputs": [
    {
     "data": {
      "text/plain": [
       "('1', '2', '3', '4', '5', '6', '7', '8', '9', '10')"
      ]
     },
     "execution_count": 28,
     "metadata": {},
     "output_type": "execute_result"
    }
   ],
   "source": [
    "String=tuple(map(lambda String:str(String),String))\n",
    "S"
   ]
  },
  {
   "cell_type": "markdown",
   "id": "b6110153-9d7a-4f7a-adfe-583171c7741a",
   "metadata": {},
   "source": []
  },
  {
   "cell_type": "markdown",
   "id": "f53dc3f9-0909-4417-a818-9be511165744",
   "metadata": {},
   "source": []
  },
  {
   "cell_type": "markdown",
   "id": "a718c27f-1f7a-4632-8829-a146beb235c9",
   "metadata": {},
   "source": [
    "Q4. Write a python program using reduce function to compute the product of a list containing numbers\n",
    "from 1 to 25."
   ]
  },
  {
   "cell_type": "code",
   "execution_count": 35,
   "id": "75a90449-5bca-42a5-aedb-7e6b114d9bc6",
   "metadata": {},
   "outputs": [],
   "source": [
    "List2=list(range(1,26))"
   ]
  },
  {
   "cell_type": "code",
   "execution_count": 37,
   "id": "a8c5d189-ddaa-40da-b913-f8a43d205479",
   "metadata": {},
   "outputs": [
    {
     "name": "stdout",
     "output_type": "stream",
     "text": [
      "[1, 2, 3, 4, 5, 6, 7, 8, 9, 10, 11, 12, 13, 14, 15, 16, 17, 18, 19, 20, 21, 22, 23, 24, 25]"
     ]
    }
   ],
   "source": [
    "print(List2,end=\"\")"
   ]
  },
  {
   "cell_type": "code",
   "execution_count": 38,
   "id": "e20215e1-a5a4-441a-9e8a-bf71975deb02",
   "metadata": {},
   "outputs": [
    {
     "data": {
      "text/plain": [
       "15511210043330985984000000"
      ]
     },
     "execution_count": 38,
     "metadata": {},
     "output_type": "execute_result"
    }
   ],
   "source": [
    "from functools import reduce\n",
    "reduce(lambda x,y: x*y,List2)"
   ]
  },
  {
   "cell_type": "markdown",
   "id": "81f42f6a-1702-4c6b-a827-6702d5950bc1",
   "metadata": {},
   "source": []
  },
  {
   "cell_type": "markdown",
   "id": "f9c21255-7bfd-430d-8eea-4218c43229cb",
   "metadata": {},
   "source": []
  },
  {
   "cell_type": "markdown",
   "id": "1bf4c867-5a3a-4bf1-9247-0a40c676d1b2",
   "metadata": {},
   "source": [
    "Q5. Write a python program to filter the numbers in a given list that are divisible by 2 and 3 using the\n",
    "filter function.\n",
    "[2, 3, 6, 9, 27, 60, 90, 120, 55, 46]"
   ]
  },
  {
   "cell_type": "code",
   "execution_count": 45,
   "id": "b624c666-5c0a-469b-9574-877d02bf5940",
   "metadata": {},
   "outputs": [
    {
     "data": {
      "text/plain": [
       "[2, 3, 6, 9, 27, 60, 90, 120, 55, 46]"
      ]
     },
     "execution_count": 45,
     "metadata": {},
     "output_type": "execute_result"
    }
   ],
   "source": [
    "List3=[2, 3, 6, 9, 27, 60, 90, 120, 55, 46]\n",
    "List3"
   ]
  },
  {
   "cell_type": "code",
   "execution_count": 53,
   "id": "6bdfcc52-fd60-4fc2-99c0-bc5045c1405c",
   "metadata": {},
   "outputs": [
    {
     "data": {
      "text/plain": [
       "[6, 60, 90, 120]"
      ]
     },
     "execution_count": 53,
     "metadata": {},
     "output_type": "execute_result"
    }
   ],
   "source": [
    "list(filter(lambda x:x%3==0 and x%2==0,List3))"
   ]
  },
  {
   "cell_type": "markdown",
   "id": "62bf6447-82ad-4f08-983f-ccf98cbbf80f",
   "metadata": {},
   "source": []
  },
  {
   "cell_type": "markdown",
   "id": "71d6435d-0c96-4bc7-9cbb-5f19b294dd5c",
   "metadata": {},
   "source": []
  },
  {
   "cell_type": "markdown",
   "id": "bec9699f-865f-4cdf-988c-5988bb22155b",
   "metadata": {},
   "source": [
    "Q6. Write a python program to find palindromes in the given list of strings using lambda and filter\n",
    "function.\n",
    "['python', 'php', 'aba', 'radar', 'level']"
   ]
  },
  {
   "cell_type": "code",
   "execution_count": 54,
   "id": "2536ddb7-a3ef-4408-8884-fb5c33ae5e48",
   "metadata": {},
   "outputs": [
    {
     "data": {
      "text/plain": [
       "['python', 'php', 'aba', 'radar', 'level']"
      ]
     },
     "execution_count": 54,
     "metadata": {},
     "output_type": "execute_result"
    }
   ],
   "source": [
    "String2=['python', 'php', 'aba', 'radar', 'level']\n",
    "String2"
   ]
  },
  {
   "cell_type": "code",
   "execution_count": 77,
   "id": "62783cde-315c-40c0-ac32-fb51a441b03e",
   "metadata": {},
   "outputs": [
    {
     "data": {
      "text/plain": [
       "['php', 'aba', 'radar', 'level']"
      ]
     },
     "execution_count": 77,
     "metadata": {},
     "output_type": "execute_result"
    }
   ],
   "source": [
    "list(filter(lambda x: x == x[::-1] ,String2))"
   ]
  }
 ],
 "metadata": {
  "kernelspec": {
   "display_name": "Python 3 (ipykernel)",
   "language": "python",
   "name": "python3"
  },
  "language_info": {
   "codemirror_mode": {
    "name": "ipython",
    "version": 3
   },
   "file_extension": ".py",
   "mimetype": "text/x-python",
   "name": "python",
   "nbconvert_exporter": "python",
   "pygments_lexer": "ipython3",
   "version": "3.10.8"
  }
 },
 "nbformat": 4,
 "nbformat_minor": 5
}
