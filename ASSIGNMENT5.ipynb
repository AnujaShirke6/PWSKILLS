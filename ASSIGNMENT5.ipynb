{
 "cells": [
  {
   "cell_type": "markdown",
   "id": "a1130664-f775-4dc1-b1c3-5913113b543c",
   "metadata": {},
   "source": [
    "PW_Assignment 5"
   ]
  },
  {
   "cell_type": "markdown",
   "id": "38b8e704-4e40-4bfe-b0b3-85a68c02b3bb",
   "metadata": {},
   "source": [
    "Q1. Explain Class and Object with respect to Object-Oriented Programming. Give a suitable example."
   ]
  },
  {
   "cell_type": "markdown",
   "id": "1893d0c6-f05f-4fd4-a9a5-3076c09def02",
   "metadata": {},
   "source": [
    "Class :\n",
    "\n",
    "A class is a collection of objects. \n",
    "A class contains the blueprints or the prototype from which the objects are being created. \n",
    "It is a logical entity that contains some attributes and methods. \n",
    "\n",
    "To understand the need for creating a class let’s consider an example, \n",
    "let’s say you wanted to track the number of dogs that may have different attributes like breed, age. \n",
    "If a list is used, the first element could be the dog’s breed while the second element could represent its age. \n",
    "Let’s suppose there are 100 different dogs, then how would you know which element is supposed to be which? \n",
    "What if you wanted to add other properties to these dogs? This lacks organization and it’s the exact need for\n",
    "classes. \n",
    "\n",
    "Some points on Python class:  \n",
    "1.Classes are created by keyword class.\n",
    "2.Attributes are the variables that belong to a class.\n",
    "3.Attributes are always public and can be accessed using the dot (.) operator. Eg.: Myclass.Myattribute\n",
    "\n",
    "Class Definition Syntax:\n",
    "\n",
    "class ClassName:\n",
    "\n",
    "     class definition \n",
    "    \n",
    "Note: The variables inside a class are called attributes."
   ]
  },
  {
   "cell_type": "code",
   "execution_count": 1,
   "id": "67a6580d-fa9a-49e2-8bd0-8ced08ba7b45",
   "metadata": {},
   "outputs": [],
   "source": [
    "#Example:\n",
    "\n",
    "# Python3 program to\n",
    "# demonstrate defining\n",
    "# a class\n",
    "#Created a class Dog\n",
    "\n",
    "class Dog: #Dog the name of the class\n",
    "    breed=\"poodle\"\n",
    "\n",
    "#In the above example, we have created a class named dog using the class keyword."
   ]
  },
  {
   "cell_type": "markdown",
   "id": "7a3ec695-4814-4a7a-b31d-b9f0458fe3c2",
   "metadata": {},
   "source": []
  },
  {
   "cell_type": "markdown",
   "id": "131fb981-78d1-4a36-ab2f-fb91c7ba5caf",
   "metadata": {},
   "source": [
    "Objects:\n",
    "\n",
    "An object is called an instance of a class.\n",
    "For example, suppose Bike is a class then we can create objects like bike1, bike2, etc from the class.\n",
    "\n",
    "Here's the syntax to create an object.\n",
    "\n",
    "objectName = ClassName()\n",
    "\n",
    "The object is an entity that has a state and behavior associated with it. It may be any real-world object like a mouse, keyboard, chair, table, pen, etc. Integers, strings, floating-point numbers, even arrays, and dictionaries, are all objects. More specifically, any single integer or any single string is an object. The number 12 is an object, the string “Hello, world” is an object, a list is an object that can hold other objects, and so on. You’ve been using objects all along and may not even realize it.\n",
    "\n",
    "An object consists of :\n",
    "\n",
    "*State: It is represented by the attributes of an object. It also reflects the properties of an object.\n",
    "*Behavior: It is represented by the methods of an object. It also reflects the response of an object to other objects.\n",
    "*Identity: It gives a unique name to an object and enables one object to interact with other objects.\n",
    "\n",
    "To understand the state, behavior, and identity let us take the example of the class dog (explained above). \n",
    "\n",
    "The identity can be considered as the name of the dog.\n",
    "State or Attributes can be considered as the breed, age, or color of the dog.\n",
    "The behavior can be considered as to whether the dog is eating or sleeping."
   ]
  },
  {
   "cell_type": "code",
   "execution_count": 2,
   "id": "cf7819b5-9ab1-4f54-823a-e14bdb6e5f26",
   "metadata": {},
   "outputs": [],
   "source": [
    "#EXAMPLE\n",
    "\n",
    "obj = Dog()\n",
    "\n",
    "#Here, obj is the object of the class."
   ]
  },
  {
   "cell_type": "markdown",
   "id": "478afea2-5e5c-4fda-8ade-5e173dbb17a3",
   "metadata": {},
   "source": []
  },
  {
   "cell_type": "markdown",
   "id": "50cac7e2-b1d3-4b25-aa9f-b30e12561cac",
   "metadata": {},
   "source": []
  },
  {
   "cell_type": "markdown",
   "id": "11cfccee-5cad-4e35-bf2f-11a88796ce25",
   "metadata": {},
   "source": [
    "Q2. Name the four pillars of OOPs."
   ]
  },
  {
   "cell_type": "markdown",
   "id": "19bf2cfd-69ad-46a8-80ca-9e0c2c8f6735",
   "metadata": {},
   "source": [
    "The four pillars for OOP are Abstraction, Encapsulation, Inheritance, Polymorphism.\n",
    "\n",
    "1. Abstraction\n",
    "    Data abstraction is the most essential function of object-oriented programming in C++. \n",
    "    Abstraction means displaying only basic information and hiding the details. \n",
    "    Data abstraction refers to providing only necessary information about the data to the outside world, hiding the background info or implementation.\n",
    "\n",
    "2. Encapsulation\n",
    "    In common terms, Encapsulation is defined as wrapping up of data and information under a single unit. \n",
    "    In object-oriented programming, Encapsulation is defined as binding together the data and the functions that manipulate them.\n",
    "    Encapsulation also leads to data abstraction or hiding. Using Encapsulation also hides the data. \n",
    "    In the previous example, the data of any of the sections like sales, finance, or accounts are hidden from any other area.\n",
    "\n",
    "3. Inheritance\n",
    "    Inheritance is the process in which two classes have a relationship with each other, and objects of one class acquire properties and features of the other class. \n",
    "    The class which inherits the features is known as the child class, and the class whose features it inherited is called the parent class.\n",
    "    Subclass\n",
    "        The class that inherits properties from another class is called Subclass or Derived class.\n",
    "\n",
    "    Superclass\n",
    "        The class that inherits sub-class properties is called Base class or superclass.\n",
    "\n",
    "4. Polymorphism\n",
    "    The word polymorphism means having many forms. It is the ability to take more than one form. \n",
    "    It is a feature that provides a function or an operator with more than one definition. \n",
    "    It can be implemented using function overloading, operator overload, function overriding, virtual function. \n",
    "    An operation may show off different behaviors at different times."
   ]
  },
  {
   "cell_type": "markdown",
   "id": "2a306ac4-61c3-4e5d-a639-0590fc01b0b2",
   "metadata": {},
   "source": []
  },
  {
   "cell_type": "markdown",
   "id": "465659ba-1cb3-4af5-8c13-dd8d75c90851",
   "metadata": {},
   "source": []
  },
  {
   "cell_type": "markdown",
   "id": "3c99bee0-9f2c-4e9a-9186-8574bcd8229f",
   "metadata": {},
   "source": [
    "Q3. Explain why the __init__() function is used. Give a suitable example."
   ]
  },
  {
   "cell_type": "markdown",
   "id": "bee6f983-8645-4517-8382-cb179c6916f1",
   "metadata": {},
   "source": [
    "There is a method called __init__() for this task. This method is called automatically whenever a new object of a class is created. This type of function is also known as the constructor function. A constructor function is a function that is called every time a new class object is created.\n",
    "\n",
    "The __init__ method is similar to constructors in C++ and Java. It is run as soon as an object of a class is instantiated. The method is useful to do any initialization you want to do with your object. \n",
    "\n",
    "Syntax of __init__ function in Python :\n",
    "class Songs:\n",
    "    def __init__(self, arguments):\n",
    "        # function definition\n",
    "\n",
    "Let’s say you are making a program which stores information about cars. You will create a class of name Car and then create objects of different cars. When creating a class object, we pass different things to it. In the case of cars, it will be company model, year of manufacture, etc. So, inside the class, we need a function that can assign all the arguments passed while creating the object to the newly created object. Or you might want to print something whenever a new car is added to your program.\n",
    "\n",
    "Note: The __init__() function is called automatically every time the class is being used to create a new object."
   ]
  },
  {
   "cell_type": "code",
   "execution_count": 4,
   "id": "e5471d75-40a1-4c65-a0e9-d885fa37d827",
   "metadata": {},
   "outputs": [
    {
     "name": "stdout",
     "output_type": "stream",
     "text": [
      "From: London\n",
      "To_city: India\n"
     ]
    }
   ],
   "source": [
    "class Trip:\n",
    "    def __init__(self, to_city, from_city):\n",
    "        self.to_city = to_city\n",
    "        self.from_city = from_city\n",
    " \n",
    "    def holiday(self):\n",
    "     return (\"From: \" + self.from_city + \"\\nTo_city: \" + self.to_city)\n",
    " \n",
    "T = Trip('India', 'London')\n",
    "print(T.holiday())\n",
    "\n",
    "'''\n",
    "\n",
    "In the above example, a class Trip is created, and an object ‘T’ is created to invoke the methods and attributes. \n",
    "As soon as the object is created,__init__ method is initialized with values India and London which are assigned to to_city \n",
    "and from_city respectively. \n",
    "The self keyword represents the current instance of the object. \n",
    "So when the holiday() method is run, it prints out the values of from_city and to_city, which are London and India, respectively.\n",
    "\n",
    "'''"
   ]
  },
  {
   "cell_type": "markdown",
   "id": "eb4c73d0-0b19-456d-81d2-487f54fa1024",
   "metadata": {},
   "source": []
  },
  {
   "cell_type": "markdown",
   "id": "f96d06ce-1530-4fa3-b398-475ed11369c3",
   "metadata": {},
   "source": []
  },
  {
   "cell_type": "markdown",
   "id": "daf210dc-2b69-43ec-89ad-c1f44db5dbd9",
   "metadata": {},
   "source": [
    "Q4. Why self is used in OOPs?"
   ]
  },
  {
   "cell_type": "markdown",
   "id": "a04034bd-358a-4d67-945d-7acd0a52a89e",
   "metadata": {},
   "source": [
    "The self parameter is a reference to the current instance of the class, and is used to access variables that belongs to the class.\n",
    "\n",
    "The self is used to represent the instance of the class. With this keyword, you can access the attributes and methods of the class in python. It binds the attributes with the given arguments.\n",
    "\n",
    "It does not have to be named self , you can call it whatever you like, but it has to be the first parameter of any function in the class."
   ]
  },
  {
   "cell_type": "markdown",
   "id": "79fb09c9-f424-4f6c-ab5e-a4434edbd657",
   "metadata": {},
   "source": []
  },
  {
   "cell_type": "markdown",
   "id": "be715ef8-7ff7-453f-b4c7-539d0d863836",
   "metadata": {},
   "source": []
  },
  {
   "cell_type": "markdown",
   "id": "4b6d6a57-d8f4-4ae4-b299-d1be1d1013f4",
   "metadata": {},
   "source": [
    "Q5. What is inheritance? Give an example for each type of inheritance."
   ]
  },
  {
   "cell_type": "markdown",
   "id": "dd126388-7e9d-46a8-8e25-f384f2503f19",
   "metadata": {},
   "source": [
    "Inheritance is defined as the mechanism of inheriting the properties of the base class to the child class\n",
    "\n",
    "Types of Inheritance depend upon the number of child and parent classes involved. There are four types of inheritance in Python:\n",
    "\n",
    "1.Single Inheritance: \n",
    "Single inheritance enables a derived class to inherit properties from a single parent class, \n",
    "thus enabling code reusability and the addition of new features to existing code."
   ]
  },
  {
   "cell_type": "code",
   "execution_count": 5,
   "id": "7b812923-626f-456d-8fcc-ae5415940876",
   "metadata": {},
   "outputs": [
    {
     "name": "stdout",
     "output_type": "stream",
     "text": [
      "This function is in parent class.\n",
      "This function is in child class.\n"
     ]
    }
   ],
   "source": [
    "# Python program to demonstrate\n",
    "# single inheritance\n",
    " \n",
    "# Base class\n",
    "class Parent:\n",
    "    def func1(self):\n",
    "        print(\"This function is in parent class.\")\n",
    " \n",
    "# Derived class\n",
    " \n",
    " \n",
    "class Child(Parent):\n",
    "    def func2(self):\n",
    "        print(\"This function is in child class.\")\n",
    " \n",
    " \n",
    "# Driver's code\n",
    "object = Child()\n",
    "object.func1()\n",
    "object.func2()"
   ]
  },
  {
   "cell_type": "markdown",
   "id": "a6519922-0491-4d01-a967-989854c7a46e",
   "metadata": {},
   "source": [
    "2.Multiple Inheritance: \n",
    "When a class can be derived from more than one base class this type of inheritance is called multiple inheritances. \n",
    "In multiple inheritances, all the features of the base classes are inherited into the derived class. "
   ]
  },
  {
   "cell_type": "code",
   "execution_count": 6,
   "id": "d016672f-f24a-4243-9778-8b6b0dc4cde9",
   "metadata": {},
   "outputs": [
    {
     "name": "stdout",
     "output_type": "stream",
     "text": [
      "Father : RAM\n",
      "Mother : SITA\n"
     ]
    }
   ],
   "source": [
    "# Python program to demonstrate\n",
    "# multiple inheritance\n",
    " \n",
    "# Base class1\n",
    "class Mother:\n",
    "    mothername = \"\"\n",
    " \n",
    "    def mother(self):\n",
    "        print(self.mothername)\n",
    " \n",
    "# Base class2\n",
    " \n",
    " \n",
    "class Father:\n",
    "    fathername = \"\"\n",
    " \n",
    "    def father(self):\n",
    "        print(self.fathername)\n",
    " \n",
    "# Derived class\n",
    " \n",
    " \n",
    "class Son(Mother, Father):\n",
    "    def parents(self):\n",
    "        print(\"Father :\", self.fathername)\n",
    "        print(\"Mother :\", self.mothername)\n",
    " \n",
    " \n",
    "# Driver's code\n",
    "s1 = Son()\n",
    "s1.fathername = \"RAM\"\n",
    "s1.mothername = \"SITA\"\n",
    "s1.parents()"
   ]
  },
  {
   "cell_type": "markdown",
   "id": "832e9f0e-0323-4759-a145-3a4f0e23b634",
   "metadata": {},
   "source": [
    "3.Multilevel Inheritance :\n",
    "In multilevel inheritance, features of the base class and the derived class are further inherited into the new derived class. \n",
    "This is similar to a relationship representing a child and a grandfather. "
   ]
  },
  {
   "cell_type": "code",
   "execution_count": 7,
   "id": "07130937-c66f-47c8-903f-06dbe77eaa1c",
   "metadata": {},
   "outputs": [
    {
     "name": "stdout",
     "output_type": "stream",
     "text": [
      "Lal mani\n",
      "Grandfather name : Lal mani\n",
      "Father name : Rampal\n",
      "Son name : Prince\n"
     ]
    }
   ],
   "source": [
    "# Python program to demonstrate\n",
    "# multilevel inheritance\n",
    "\n",
    "# Base class\n",
    "\n",
    "\n",
    "class Grandfather:\n",
    "\n",
    "\tdef __init__(self, grandfathername):\n",
    "\t\tself.grandfathername = grandfathername\n",
    "\n",
    "# Intermediate class\n",
    "\n",
    "\n",
    "class Father(Grandfather):\n",
    "\tdef __init__(self, fathername, grandfathername):\n",
    "\t\tself.fathername = fathername\n",
    "\n",
    "\t\t# invoking constructor of Grandfather class\n",
    "\t\tGrandfather.__init__(self, grandfathername)\n",
    "\n",
    "# Derived class\n",
    "\n",
    "\n",
    "class Son(Father):\n",
    "\tdef __init__(self, sonname, fathername, grandfathername):\n",
    "\t\tself.sonname = sonname\n",
    "\n",
    "\t\t# invoking constructor of Father class\n",
    "\t\tFather.__init__(self, fathername, grandfathername)\n",
    "\n",
    "\tdef print_name(self):\n",
    "\t\tprint('Grandfather name :', self.grandfathername)\n",
    "\t\tprint(\"Father name :\", self.fathername)\n",
    "\t\tprint(\"Son name :\", self.sonname)\n",
    "\n",
    "\n",
    "# Driver code\n",
    "s1 = Son('Prince', 'Rampal', 'Lal mani')\n",
    "print(s1.grandfathername)\n",
    "s1.print_name()\n"
   ]
  },
  {
   "cell_type": "markdown",
   "id": "4c32ff5c-bb1d-454b-9188-b0b32d218e33",
   "metadata": {},
   "source": [
    "4.Hierarchical Inheritance: \n",
    "When more than one derived class are created from a single base this type of inheritance is called hierarchical inheritance. \n",
    "In this program, we have a parent (base) class and two child (derived) classes."
   ]
  },
  {
   "cell_type": "code",
   "execution_count": 8,
   "id": "8044eda7-9082-4faf-bcdb-2aa1b694b711",
   "metadata": {},
   "outputs": [
    {
     "name": "stdout",
     "output_type": "stream",
     "text": [
      "This function is in parent class.\n",
      "This function is in child 1.\n",
      "This function is in parent class.\n",
      "This function is in child 2.\n"
     ]
    }
   ],
   "source": [
    "# Python program to demonstrate\n",
    "# Hierarchical inheritance\n",
    "\n",
    "\n",
    "# Base class\n",
    "class Parent:\n",
    "\tdef func1(self):\n",
    "\t\tprint(\"This function is in parent class.\")\n",
    "\n",
    "# Derived class1\n",
    "\n",
    "\n",
    "class Child1(Parent):\n",
    "\tdef func2(self):\n",
    "\t\tprint(\"This function is in child 1.\")\n",
    "\n",
    "# Derivied class2\n",
    "\n",
    "\n",
    "class Child2(Parent):\n",
    "\tdef func3(self):\n",
    "\t\tprint(\"This function is in child 2.\")\n",
    "\n",
    "\n",
    "# Driver's code\n",
    "object1 = Child1()\n",
    "object2 = Child2()\n",
    "object1.func1()\n",
    "object1.func2()\n",
    "object2.func1()\n",
    "object2.func3()"
   ]
  },
  {
   "cell_type": "markdown",
   "id": "0cc512c1-cb06-4478-bbd6-d9bddcb0d6e2",
   "metadata": {},
   "source": [
    "5.Hybrid Inheritance: \n",
    "Inheritance consisting of multiple types of inheritance is called hybrid inheritance."
   ]
  },
  {
   "cell_type": "code",
   "execution_count": 9,
   "id": "272a3e62-acb8-4e40-876b-7490e4b3064e",
   "metadata": {},
   "outputs": [
    {
     "name": "stdout",
     "output_type": "stream",
     "text": [
      "This function is in school.\n",
      "This function is in student 1. \n"
     ]
    }
   ],
   "source": [
    "# Python program to demonstrate\n",
    "# hybrid inheritance\n",
    "\n",
    "\n",
    "class School:\n",
    "\tdef func1(self):\n",
    "\t\tprint(\"This function is in school.\")\n",
    "\n",
    "\n",
    "class Student1(School):\n",
    "\tdef func2(self):\n",
    "\t\tprint(\"This function is in student 1. \")\n",
    "\n",
    "\n",
    "class Student2(School):\n",
    "\tdef func3(self):\n",
    "\t\tprint(\"This function is in student 2.\")\n",
    "\n",
    "\n",
    "class Student3(Student1, School):\n",
    "\tdef func4(self):\n",
    "\t\tprint(\"This function is in student 3.\")\n",
    "\n",
    "\n",
    "# Driver's code\n",
    "object = Student3()\n",
    "object.func1()\n",
    "object.func2()"
   ]
  },
  {
   "cell_type": "markdown",
   "id": "454130a6-8aa7-46ad-aed3-f31a3ee5e432",
   "metadata": {},
   "source": []
  },
  {
   "cell_type": "markdown",
   "id": "998a23e3-2872-462d-bd7f-34427177b43b",
   "metadata": {},
   "source": []
  }
 ],
 "metadata": {
  "kernelspec": {
   "display_name": "Python 3 (ipykernel)",
   "language": "python",
   "name": "python3"
  },
  "language_info": {
   "codemirror_mode": {
    "name": "ipython",
    "version": 3
   },
   "file_extension": ".py",
   "mimetype": "text/x-python",
   "name": "python",
   "nbconvert_exporter": "python",
   "pygments_lexer": "ipython3",
   "version": "3.10.8"
  }
 },
 "nbformat": 4,
 "nbformat_minor": 5
}
